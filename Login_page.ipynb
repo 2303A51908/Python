{
  "nbformat": 4,
  "nbformat_minor": 0,
  "metadata": {
    "colab": {
      "provenance": [],
      "authorship_tag": "ABX9TyMv5S4mc/9uNOyzEmeiZh92",
      "include_colab_link": true
    },
    "kernelspec": {
      "name": "python3",
      "display_name": "Python 3"
    },
    "language_info": {
      "name": "python"
    }
  },
  "cells": [
    {
      "cell_type": "markdown",
      "metadata": {
        "id": "view-in-github",
        "colab_type": "text"
      },
      "source": [
        "<a href=\"https://colab.research.google.com/github/2303A51908/Python/blob/main/Login_page.ipynb\" target=\"_parent\"><img src=\"https://colab.research.google.com/assets/colab-badge.svg\" alt=\"Open In Colab\"/></a>"
      ]
    },
    {
      "cell_type": "code",
      "execution_count": 1,
      "metadata": {
        "colab": {
          "base_uri": "https://localhost:8080/"
        },
        "id": "FC8kb19nG9i6",
        "outputId": "d48fc220-eb03-4fef-db3f-f3684a880077"
      },
      "outputs": [
        {
          "output_type": "stream",
          "name": "stdout",
          "text": [
            "\n",
            "_____Menu______\n",
            "1. Sign up\n",
            "2. Login\n",
            "3. Exit\n",
            "Enter Your choice(1-3): 1\n",
            "\n",
            "_____SIGN UP ______\n",
            "Enter Username: karthik123\n",
            "Enter a Password: cheppanu\n",
            "Account created Sucessfully\n",
            "{'karthik123': 'cheppanu'}\n",
            "\n",
            "_____Menu______\n",
            "1. Sign up\n",
            "2. Login\n",
            "3. Exit\n",
            "Enter Your choice(1-3): 2\n",
            "\n",
            "_____Login_____\n",
            "Enter Usernamekarthik123\n",
            "Enter a passwordcheppanu\n",
            "Login Sucessful\n",
            "\n",
            "_____Menu______\n",
            "1. Sign up\n",
            "2. Login\n",
            "3. Exit\n",
            "Enter Your choice(1-3): 3\n",
            "Exit\n"
          ]
        }
      ],
      "source": [
        "#Signup page\n",
        "users = {} # {} :-Dictionary is to store the values.\n",
        "def Signup():\n",
        "  print(\"\\n_____SIGN UP ______\")\n",
        "  username = input(\"Enter Username: \")\n",
        "  if username in users:\n",
        "    print(\"Username already exits\")\n",
        "  else:\n",
        "    password = input(\"Enter a Password: \")\n",
        "  users[username] = password\n",
        "  print(\"Account created Sucessfully\")\n",
        "\n",
        "\n",
        "#Login Page\n",
        "\n",
        "def Login():\n",
        "  print(\"\\n_____Login_____\")\n",
        "  username = input(\"Enter Username\")\n",
        "  password = input(\"Enter a password\")\n",
        "  if username in users and users[username] == password:\n",
        "    print(\"Login Sucessful\")\n",
        "  else:\n",
        "    print(\"Invalid username or password\")\n",
        "\n",
        "#Main page\n",
        "\n",
        "def main():\n",
        "  while True:\n",
        "    print(\"\\n_____Menu______\")\n",
        "\n",
        "    print(\"1. Sign up\")\n",
        "    print(\"2. Login\")\n",
        "    print(\"3. Exit\")\n",
        "\n",
        "    choice = input(\"Enter Your choice(1-3): \")\n",
        "\n",
        "    if choice == \"1\":\n",
        "      Signup()\n",
        "      print(users)\n",
        "    elif choice == \"2\":\n",
        "      Login()\n",
        "    elif choice == \"3\":\n",
        "      print(\"Exit\")\n",
        "\n",
        "      break\n",
        "    else:\n",
        "      print(\"Invalid choice\")\n",
        "main()"
      ]
    },
    {
      "cell_type": "code",
      "source": [],
      "metadata": {
        "id": "AqfTE6hOKU_N"
      },
      "execution_count": null,
      "outputs": []
    }
  ]
}