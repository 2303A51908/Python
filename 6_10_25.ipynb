{
  "nbformat": 4,
  "nbformat_minor": 0,
  "metadata": {
    "colab": {
      "provenance": [],
      "authorship_tag": "ABX9TyMUMkj8iz4D8dfdrKzr3Y+E",
      "include_colab_link": true
    },
    "kernelspec": {
      "name": "python3",
      "display_name": "Python 3"
    },
    "language_info": {
      "name": "python"
    }
  },
  "cells": [
    {
      "cell_type": "markdown",
      "metadata": {
        "id": "view-in-github",
        "colab_type": "text"
      },
      "source": [
        "<a href=\"https://colab.research.google.com/github/2303A51908/Python/blob/main/6_10_25.ipynb\" target=\"_parent\"><img src=\"https://colab.research.google.com/assets/colab-badge.svg\" alt=\"Open In Colab\"/></a>"
      ]
    },
    {
      "cell_type": "markdown",
      "source": [
        "Two Sum Problem"
      ],
      "metadata": {
        "id": "I7V0sKL0udzV"
      }
    },
    {
      "cell_type": "code",
      "source": [
        "nums = [2, 7, 11, 15]\n",
        "target = 9\n",
        "for i in range(len(nums)): # i=0, i=1, i=2, i=3\n",
        "  for j in range (i + 1, len(nums)): # i + 1 = 0 +1, 4 => j=1\n",
        "    if nums[i] + nums[j] == target:\n",
        "      print([i, j]) # [0,1]\n",
        "      print (nums[i], nums[j]) # 2, 7\n",
        "      print (nums[i] + nums[j]) # 9\n",
        "      print(target) # 9\n",
        "      break"
      ],
      "metadata": {
        "colab": {
          "base_uri": "https://localhost:8080/"
        },
        "id": "1GvE1oVMvYkA",
        "outputId": "897c2216-15a2-4de9-f33f-0ec93bf649d8"
      },
      "execution_count": 11,
      "outputs": [
        {
          "output_type": "stream",
          "name": "stdout",
          "text": [
            "[0, 1]\n",
            "2 7\n",
            "9\n",
            "9\n"
          ]
        }
      ]
    },
    {
      "cell_type": "markdown",
      "source": [
        "Linear Search : Unsorted Lists\n",
        "\n",
        "\n"
      ],
      "metadata": {
        "id": "NOdzX78BwGU-"
      }
    },
    {
      "cell_type": "code",
      "source": [
        "nums = [10,20,30,40]\n",
        "target = 30\n",
        "found = -1\n",
        "for i in range(len(nums)): # i=0, i =1, i=2,i=3\n",
        "  if nums[i] == target: # 10 != 30, 20 != 30, 30 = 30 => At index at 2\n",
        "    found = i # 30 = 30\n",
        "    break\n",
        "if found!= -1:\n",
        "  print(\"Element is found at index:\", found)\n",
        "else:\n",
        "  print(\"Not found\")"
      ],
      "metadata": {
        "colab": {
          "base_uri": "https://localhost:8080/"
        },
        "id": "8ynK5aHCymsf",
        "outputId": "b077f4aa-9d15-4b67-f33e-6cddfd6be5ca"
      },
      "execution_count": 13,
      "outputs": [
        {
          "output_type": "stream",
          "name": "stdout",
          "text": [
            "Element is found at index: 2\n"
          ]
        }
      ]
    },
    {
      "cell_type": "markdown",
      "source": [
        "// Binary Search : Unsorted Lists\n"
      ],
      "metadata": {
        "id": "Fmq8F25Pzpu2"
      }
    },
    {
      "cell_type": "code",
      "source": [
        "nums = [10, 20, 30, 40, 50]\n",
        "low = 0\n",
        "high = len(nums) -1\n",
        "found  = -1\n",
        "while low <= high:\n",
        "  mid = (low + high) // 2\n",
        "  if nums[mid] == target:\n",
        "    found = mid\n",
        "    break\n",
        "  elif nums[mid] < target:\n",
        "    low = mid + 1\n",
        "  else:\n",
        "    high = mid - 1\n",
        "if found!= -1:\n",
        "  print(\"Element is found at index:\", found)\n",
        "else:\n",
        "  print(\"Not found\")"
      ],
      "metadata": {
        "colab": {
          "base_uri": "https://localhost:8080/"
        },
        "id": "OAKw977rzpMf",
        "outputId": "6abba698-66dc-44df-ce7c-02765f63a3e0"
      },
      "execution_count": 14,
      "outputs": [
        {
          "output_type": "stream",
          "name": "stdout",
          "text": [
            "Element is found at index: 2\n"
          ]
        }
      ]
    },
    {
      "cell_type": "markdown",
      "source": [
        "Tuples()"
      ],
      "metadata": {
        "id": "D8ehUPb64CIp"
      }
    },
    {
      "cell_type": "code",
      "source": [
        "#Single element tuple must  have a traling comma\n",
        "tuple3 = (1,)\n",
        "print(\"tuple3:\", tuple3, len(tuple3))"
      ],
      "metadata": {
        "colab": {
          "base_uri": "https://localhost:8080/"
        },
        "id": "aznicwG_4H9J",
        "outputId": "412789a3-d3bf-4ea0-cba6-b6cdb862d0ea"
      },
      "execution_count": 15,
      "outputs": [
        {
          "output_type": "stream",
          "name": "stdout",
          "text": [
            "tuple3: (1,) 1\n"
          ]
        }
      ]
    },
    {
      "cell_type": "code",
      "source": [
        "# Tuple Operations: Limited Since Unlike list, Tuples are immutable\n",
        "tuple4 = (1, 2,3)\n",
        "print(\"tuple4:\", tuple4, len(tuple4))"
      ],
      "metadata": {
        "colab": {
          "base_uri": "https://localhost:8080/"
        },
        "id": "5WF9IXx06OrS",
        "outputId": "5f924d0b-2139-4055-cedb-41145bdc14ff"
      },
      "execution_count": 18,
      "outputs": [
        {
          "output_type": "stream",
          "name": "stdout",
          "text": [
            "tuple4: (1, 2, 3) 3\n"
          ]
        }
      ]
    },
    {
      "cell_type": "code",
      "source": [
        "#You can Index tuple just like lists $ Slicing also\n",
        "tuple4 = (1, 2,3)\n",
        "print(\"tuple4:\", tuple4[0], tuple4[1], tuple4[2])\n",
        "print(\"tuple4:\", tuple4[0:2], tuple4[0:3])"
      ],
      "metadata": {
        "colab": {
          "base_uri": "https://localhost:8080/"
        },
        "id": "zdiPs9fG7E2h",
        "outputId": "42ba4d71-f780-4230-c01c-37310816d4ec"
      },
      "execution_count": 22,
      "outputs": [
        {
          "output_type": "stream",
          "name": "stdout",
          "text": [
            "tuple4: 1 2 3\n",
            "tuple4: (1, 2) (1, 2, 3)\n"
          ]
        }
      ]
    },
    {
      "cell_type": "code",
      "source": [
        "# You can also nested tuples\n",
        "tuple5 = (1,2,3),(4,5,6)\n",
        "print(\"tuple5:\", tuple5, len(tuple5))\n",
        "\n",
        "#\n",
        "tuple5 = (1,2,3) + (4,5,6)\n",
        "print(\"tuple5:\", tuple5, len(tuple5))"
      ],
      "metadata": {
        "colab": {
          "base_uri": "https://localhost:8080/"
        },
        "id": "1ySMkUp58GBl",
        "outputId": "339572d1-4d8b-49a3-e686-fffbf91cc8f0"
      },
      "execution_count": 29,
      "outputs": [
        {
          "output_type": "stream",
          "name": "stdout",
          "text": [
            "tuple5: ((1, 2, 3), (4, 5, 6)) 2\n",
            "tuple5: (1, 2, 3, 4, 5, 6) 6\n"
          ]
        }
      ]
    },
    {
      "cell_type": "code",
      "source": [
        "#Tuple packing\n",
        "tuple7 = 1,2,3\n",
        "print(\"tuple7:\", tuple7, len(tuple7))\n",
        "\n",
        "#Tuple Unpackiing\n",
        "x,y,z = tuple7\n",
        "print(\"tuple Unpacking:\", x,y,z)"
      ],
      "metadata": {
        "colab": {
          "base_uri": "https://localhost:8080/"
        },
        "id": "AEePOUWZ-s0X",
        "outputId": "c697f78a-95e5-4ca6-eebb-85e2ae2aea75"
      },
      "execution_count": 35,
      "outputs": [
        {
          "output_type": "stream",
          "name": "stdout",
          "text": [
            "tuple7: (1, 2, 3) 3\n",
            "tuple Unpacking: 1 2 3\n"
          ]
        }
      ]
    },
    {
      "cell_type": "code",
      "source": [
        "#Check Membership\n",
        "animals = (\"cat\", \"Dog\", \"Snake\", \"Lion\")\n",
        "is_cat_present = \"cat\" in animals\n",
        "is_elephant_present = \"elephant\" in animals\n",
        "print(f\"Is 'cat' present in the animals? {is_cat_present} \")\n",
        "print(f\"Is 'elephant' present in the animals? {is_elephant_present} \")\n"
      ],
      "metadata": {
        "colab": {
          "base_uri": "https://localhost:8080/"
        },
        "id": "iwBZHqOaAZEf",
        "outputId": "ba4b7088-8c1d-4d1c-d9bd-85b253838010"
      },
      "execution_count": 40,
      "outputs": [
        {
          "output_type": "stream",
          "name": "stdout",
          "text": [
            "Is 'cat' present in the animals? True \n",
            "Is 'elephant' present in the animals? False \n"
          ]
        }
      ]
    },
    {
      "cell_type": "code",
      "source": [
        "#Reversing a Tuple\n",
        "nums = (10, 20, 30, 40, 50)\n",
        "reversed_tuple = nums[::-1] #Reverse order\n",
        "print(reversed_tuple)\n"
      ],
      "metadata": {
        "colab": {
          "base_uri": "https://localhost:8080/"
        },
        "id": "3xh92i5JGyZL",
        "outputId": "1fa5471a-652c-401a-b55f-229c38601760"
      },
      "execution_count": 45,
      "outputs": [
        {
          "output_type": "stream",
          "name": "stdout",
          "text": [
            "(50, 40, 30, 20, 10)\n"
          ]
        }
      ]
    }
  ]
}